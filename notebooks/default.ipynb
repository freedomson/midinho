{
 "cells": [
  {
   "cell_type": "markdown",
   "id": "c8169ef2",
   "metadata": {},
   "source": [
    "## Playground"
   ]
  },
  {
   "cell_type": "code",
   "execution_count": 7,
   "id": "36be2708",
   "metadata": {},
   "outputs": [
    {
     "name": "stdout",
     "output_type": "stream",
     "text": [
      "It seems like you're just testing to see if I'm working properly! That's perfectly fine. In that case, my response is: \"Test successful!\" Is there anything else I can help you with?"
     ]
    }
   ],
   "source": [
    "from langchain.callbacks.base import BaseCallbackHandler\n",
    "from langchain_core.output_parsers import StrOutputParser\n",
    "from langchain_ollama import ChatOllama\n",
    "from langchain.prompts import PromptTemplate\n",
    "from langchain_core.messages import HumanMessage, AIMessage\n",
    "\n",
    "class MyStreamingHandler(BaseCallbackHandler):\n",
    "    def setMsgCallback(self, callback):\n",
    "      self.msgCallbak = callback;\n",
    "    def on_llm_new_token(self, token: str, **kwargs):\n",
    "        #self.msgCallbak(token)\n",
    "        print(token, end='', flush=True)\n",
    "\n",
    "chat_history = []\n",
    "\n",
    "def create_chain():\n",
    "    my_handler = MyStreamingHandler()\n",
    "    # Add memory to track conversation\n",
    "    llm = ChatOllama(\n",
    "        model=\"llama3:latest\",\n",
    "        streaming=True,\n",
    "        callbacks=[my_handler],\n",
    "        verbose=False\n",
    "    )\n",
    "    return llm\n",
    "chain = create_chain()\n",
    "\n",
    "user_prompt = PromptTemplate.from_template(\"Answer user query: {query}\")\n",
    "formatted_query = user_prompt.format(query=\"test\")\n",
    "chat_history.append(HumanMessage(content=formatted_query))\n",
    "response = await chain.ainvoke(chat_history)\n",
    "chat_history.append(AIMessage(content=response.content))\n",
    "response = await chain.ainvoke(chat_history)"
   ]
  }
 ],
 "metadata": {
  "kernelspec": {
   "display_name": ".venv",
   "language": "python",
   "name": "python3"
  },
  "language_info": {
   "codemirror_mode": {
    "name": "ipython",
    "version": 3
   },
   "file_extension": ".py",
   "mimetype": "text/x-python",
   "name": "python",
   "nbconvert_exporter": "python",
   "pygments_lexer": "ipython3",
   "version": "3.10.4"
  }
 },
 "nbformat": 4,
 "nbformat_minor": 5
}

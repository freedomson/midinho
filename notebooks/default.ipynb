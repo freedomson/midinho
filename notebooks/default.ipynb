{
 "cells": [
  {
   "cell_type": "markdown",
   "id": "c8169ef2",
   "metadata": {},
   "source": [
    "## Playground"
   ]
  },
  {
   "cell_type": "code",
   "execution_count": null,
   "id": "36be2708",
   "metadata": {},
   "outputs": [
    {
     "name": "stdout",
     "output_type": "stream",
     "text": [
      "It seems like you're just testing me out! That's perfectly fine. Since there was no actual question asked, I don't have any specific answer to provide. If you'd like to ask a real question or have a conversation, I'm here to help with that too! Just let me know what's on your mind.You haven't said anything yet, this is the start of our conversation!"
     ]
    }
   ],
   "source": [
    "from langchain.callbacks.base import BaseCallbackHandler\n",
    "from langchain_core.output_parsers import StrOutputParser\n",
    "from langchain_ollama import ChatOllama\n",
    "from langchain.prompts import PromptTemplate\n",
    "from langchain_core.messages import HumanMessage, AIMessage\n",
    "\n",
    "class MyStreamingHandler(BaseCallbackHandler):\n",
    "    def setMsgCallback(self, callback):\n",
    "      self.msgCallbak = callback;\n",
    "    def on_llm_new_token(self, token: str, **kwargs):\n",
    "        #self.msgCallbak(token)\n",
    "        print(token, end='', flush=True)\n",
    "\n",
    "chat_history = []\n",
    "\n",
    "def create_chain():\n",
    "    my_handler = MyStreamingHandler()\n",
    "    prompt = PromptTemplate.from_template(\"Answer user query: {query}\")\n",
    "    # Add memory to track conversation\n",
    "    llm = ChatOllama(\n",
    "        model=\"llama3:latest\",\n",
    "        streaming=True,\n",
    "        callbacks=[my_handler],\n",
    "        verbose=False\n",
    "    )\n",
    "    return prompt | llm | StrOutputParser()\n",
    "chain = create_chain()\n",
    "chat_history.append(HumanMessage(content=\"test\"))\n",
    "response = await chain.ainvoke(chat_history,{\"query\": \"test\"})\n",
    "chat_history.append(AIMessage(content=response))\n",
    "response = await chain.ainvoke(chat_history{\"query\": \"What I have said?\"})"
   ]
  }
 ],
 "metadata": {
  "kernelspec": {
   "display_name": ".venv",
   "language": "python",
   "name": "python3"
  },
  "language_info": {
   "codemirror_mode": {
    "name": "ipython",
    "version": 3
   },
   "file_extension": ".py",
   "mimetype": "text/x-python",
   "name": "python",
   "nbconvert_exporter": "python",
   "pygments_lexer": "ipython3",
   "version": "3.10.4"
  }
 },
 "nbformat": 4,
 "nbformat_minor": 5
}

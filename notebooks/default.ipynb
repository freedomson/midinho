{
 "cells": [
  {
   "cell_type": "markdown",
   "id": "c8169ef2",
   "metadata": {},
   "source": [
    "## Playground"
   ]
  },
  {
   "cell_type": "code",
   "execution_count": null,
   "id": "36be2708",
   "metadata": {},
   "outputs": [
    {
     "ename": "NameError",
     "evalue": "name 'this' is not defined",
     "output_type": "error",
     "traceback": [
      "\u001b[0;31m---------------------------------------------------------------------------\u001b[0m",
      "\u001b[0;31mNameError\u001b[0m                                 Traceback (most recent call last)",
      "Cell \u001b[0;32mIn[11], line 16\u001b[0m\n\u001b[1;32m     13\u001b[0m     my_handler\u001b[38;5;241m.\u001b[39mon_llm_new_token(\u001b[38;5;124m\"\u001b[39m\u001b[38;5;124md\u001b[39m\u001b[38;5;124m\"\u001b[39m)\n\u001b[1;32m     14\u001b[0m     \u001b[38;5;28mprint\u001b[39m(\u001b[38;5;124m\"\u001b[39m\u001b[38;5;124mhello\u001b[39m\u001b[38;5;124m\"\u001b[39m)\n\u001b[0;32m---> 16\u001b[0m \u001b[43mcreate_chain\u001b[49m\u001b[43m(\u001b[49m\u001b[43m)\u001b[49m\n",
      "Cell \u001b[0;32mIn[11], line 13\u001b[0m, in \u001b[0;36mcreate_chain\u001b[0;34m()\u001b[0m\n\u001b[1;32m     11\u001b[0m my_handler \u001b[38;5;241m=\u001b[39m MyStreamingHandler()\n\u001b[1;32m     12\u001b[0m my_handler\u001b[38;5;241m.\u001b[39msetPrinto(\u001b[38;5;28mprint\u001b[39m)\n\u001b[0;32m---> 13\u001b[0m \u001b[43mmy_handler\u001b[49m\u001b[38;5;241;43m.\u001b[39;49m\u001b[43mon_llm_new_token\u001b[49m\u001b[43m(\u001b[49m\u001b[38;5;124;43m\"\u001b[39;49m\u001b[38;5;124;43md\u001b[39;49m\u001b[38;5;124;43m\"\u001b[39;49m\u001b[43m)\u001b[49m\n\u001b[1;32m     14\u001b[0m \u001b[38;5;28mprint\u001b[39m(\u001b[38;5;124m\"\u001b[39m\u001b[38;5;124mhello\u001b[39m\u001b[38;5;124m\"\u001b[39m)\n",
      "Cell \u001b[0;32mIn[11], line 6\u001b[0m, in \u001b[0;36mMyStreamingHandler.on_llm_new_token\u001b[0;34m(self, token, **kwargs)\u001b[0m\n\u001b[1;32m      4\u001b[0m \u001b[38;5;28;01mdef\u001b[39;00m\u001b[38;5;250m \u001b[39m\u001b[38;5;21mon_llm_new_token\u001b[39m(\u001b[38;5;28mself\u001b[39m, token: \u001b[38;5;28mstr\u001b[39m, \u001b[38;5;241m*\u001b[39m\u001b[38;5;241m*\u001b[39mkwargs):\n\u001b[1;32m      5\u001b[0m     \u001b[38;5;66;03m# output_callback(token)\u001b[39;00m\n\u001b[0;32m----> 6\u001b[0m     \u001b[43mthis\u001b[49m\u001b[38;5;241m.\u001b[39mprinto(token)\n\u001b[1;32m      7\u001b[0m     \u001b[38;5;28mprint\u001b[39m(token, end\u001b[38;5;241m=\u001b[39m\u001b[38;5;124m'\u001b[39m\u001b[38;5;124m'\u001b[39m, flush\u001b[38;5;241m=\u001b[39m\u001b[38;5;28;01mTrue\u001b[39;00m)\n",
      "\u001b[0;31mNameError\u001b[0m: name 'this' is not defined"
     ]
    }
   ],
   "source": [
    "class MyStreamingHandler():\n",
    "    def setPrinto(self, printo):\n",
    "      self.printo = printo;\n",
    "    def on_llm_new_token(self, token: str, **kwargs):\n",
    "        # output_callback(token)\n",
    "        this.printo(token)\n",
    "        print(token, end='', flush=True)\n",
    "\n",
    "\n",
    "def create_chain():\n",
    "    my_handler = MyStreamingHandler()\n",
    "    my_handler.setPrinto(print)\n",
    "    my_handler.on_llm_new_token(\"d\")\n",
    "    print(\"hello\")\n",
    "\n",
    "create_chain()"
   ]
  },
  {
   "cell_type": "code",
   "execution_count": null,
   "id": "2b59820f",
   "metadata": {},
   "outputs": [],
   "source": [
    "from langchain.callbacks.base import BaseCallbackHandler\n",
    "from langchain_core.output_parsers import StrOutputParser\n",
    "\n",
    "class MyStreamingHandler(BaseCallbackHandler):\n",
    "    def on_llm_new_token(self, token: str, **kwargs):\n",
    "        # output_callback(token)\n",
    "        print(token, end='', flush=True)\n",
    "\n",
    "from langchain.chains import LLMChain\n",
    "from langchain_ollama import ChatOllama\n",
    "from langchain.prompts import PromptTemplate\n",
    "from langchain.callbacks.streaming_stdout import StreamingStdOutCallbackHandler\n",
    "\n",
    "my_handler = MyStreamingHandler()\n",
    "prompt = PromptTemplate.from_template(\"Answer user query: {query}\")\n",
    "\n",
    "llm = ChatOllama(\n",
    "    model=\"llama3:latest\",\n",
    "    streaming=True,\n",
    "    callbacks=[my_handler],\n",
    "    verbose=False\n",
    ")\n",
    "\n",
    "chain = prompt | llm | StrOutputParser()\n",
    "\n",
    "#from js import globalMessage\n",
    "#query=globalMessage.query\n",
    "query = \"Give me a complete code example for a bot\"\n",
    "await chain.ainvoke({\"query\": query})\n"
   ]
  }
 ],
 "metadata": {
  "kernelspec": {
   "display_name": "3.10.4",
   "language": "python",
   "name": "python3"
  },
  "language_info": {
   "codemirror_mode": {
    "name": "ipython",
    "version": 3
   },
   "file_extension": ".py",
   "mimetype": "text/x-python",
   "name": "python",
   "nbconvert_exporter": "python",
   "pygments_lexer": "ipython3",
   "version": "3.10.4"
  }
 },
 "nbformat": 4,
 "nbformat_minor": 5
}

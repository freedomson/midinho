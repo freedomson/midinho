{
 "cells": [
  {
   "cell_type": "markdown",
   "id": "c8169ef2",
   "metadata": {},
   "source": [
    "## Playground"
   ]
  },
  {
   "cell_type": "code",
   "execution_count": null,
   "id": "2b59820f",
   "metadata": {},
   "outputs": [],
   "source": [
    "from langchain.callbacks.base import BaseCallbackHandler\n",
    "from langchain_core.output_parsers import StrOutputParser\n",
    "\n",
    "class MyStreamingHandler(BaseCallbackHandler):\n",
    "    def on_llm_new_token(self, token: str, **kwargs):\n",
    "        # output_callback(token)\n",
    "        print(token, end='', flush=True)\n",
    "\n",
    "from langchain.chains import LLMChain\n",
    "from langchain_ollama import ChatOllama\n",
    "from langchain.prompts import PromptTemplate\n",
    "from langchain.callbacks.streaming_stdout import StreamingStdOutCallbackHandler\n",
    "\n",
    "my_handler = MyStreamingHandler()\n",
    "prompt = PromptTemplate.from_template(\"Answer user query: {query}\")\n",
    "\n",
    "llm = ChatOllama(\n",
    "    model=\"llama3:latest\",\n",
    "    streaming=True,\n",
    "    callbacks=[my_handler],\n",
    "    verbose=False\n",
    ")\n",
    "\n",
    "chain = prompt | llm | StrOutputParser()\n",
    "\n",
    "#from js import globalMessage\n",
    "#query=globalMessage.query\n",
    "query = \"Give me a complete code example for a bot\"\n",
    "await chain.ainvoke({\"query\": query})\n"
   ]
  }
 ],
 "metadata": {
  "kernelspec": {
   "display_name": ".venv",
   "language": "python",
   "name": "python3"
  },
  "language_info": {
   "codemirror_mode": {
    "name": "ipython",
    "version": 3
   },
   "file_extension": ".py",
   "mimetype": "text/x-python",
   "name": "python",
   "nbconvert_exporter": "python",
   "pygments_lexer": "ipython3",
   "version": "3.10.4"
  }
 },
 "nbformat": 4,
 "nbformat_minor": 5
}
